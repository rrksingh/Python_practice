{
 "cells": [
  {
   "cell_type": "markdown",
   "id": "48576b6e",
   "metadata": {},
   "source": [
    "# Practice Programs: Developing Logics"
   ]
  },
  {
   "cell_type": "markdown",
   "id": "0c7f9b02",
   "metadata": {},
   "source": [
    "# Bubble Sorting "
   ]
  },
  {
   "cell_type": "code",
   "execution_count": null,
   "id": "055f8829",
   "metadata": {},
   "outputs": [],
   "source": [
    "# short list using while loop\n",
    "num = [45,2,5,0,1,10,32]\n",
    "n = len (num)\n",
    "\n",
    "i=0\n",
    "\n",
    "while i < n:\n",
    "    \n",
    "    if i>0 and num[i]>num[i+1]:\n",
    "        num[i],num[i+1]=num[i+1],num[i]\n",
    "i+=1\n",
    "        \n",
    "    "
   ]
  },
  {
   "cell_type": "markdown",
   "id": "b4ff97df",
   "metadata": {},
   "source": [
    "# Bubble Sorting "
   ]
  },
  {
   "cell_type": "code",
   "execution_count": 6,
   "id": "887b504b",
   "metadata": {},
   "outputs": [],
   "source": [
    "num = [2,5,87,55,40,3,0,4]\n",
    "\n",
    "n = len(num)\n",
    "\n",
    "for i in range(n):\n",
    "    for j in range(0,n-i-1):\n",
    "#         print(n-i-1)\n",
    "        if num[j]>num[j+1]:\n",
    "            num[j],num[j+1] = num[j+1],num[j]"
   ]
  },
  {
   "cell_type": "code",
   "execution_count": null,
   "id": "233f8f96",
   "metadata": {},
   "outputs": [],
   "source": []
  },
  {
   "cell_type": "markdown",
   "id": "5bf2a97b",
   "metadata": {},
   "source": [
    "# Reversing a number\n"
   ]
  },
  {
   "cell_type": "code",
   "execution_count": 11,
   "id": "50d61eb6",
   "metadata": {},
   "outputs": [
    {
     "name": "stdout",
     "output_type": "stream",
     "text": [
      "Enter a number: 1256\n"
     ]
    }
   ],
   "source": [
    "number = int(input('Enter a number: '))\n",
    "\n",
    "reverse = 0\n",
    "\n",
    "while number > 0:\n",
    "    dig = number%10\n",
    "    reverse = reverse*10 + dig\n",
    "    number = number//10"
   ]
  },
  {
   "cell_type": "code",
   "execution_count": 12,
   "id": "3f3e5521",
   "metadata": {},
   "outputs": [
    {
     "data": {
      "text/plain": [
       "6521"
      ]
     },
     "execution_count": 12,
     "metadata": {},
     "output_type": "execute_result"
    }
   ],
   "source": [
    "reverse"
   ]
  },
  {
   "cell_type": "markdown",
   "id": "575b887b",
   "metadata": {},
   "source": [
    "# Armstrong Number "
   ]
  },
  {
   "cell_type": "code",
   "execution_count": 46,
   "id": "b42edacf",
   "metadata": {},
   "outputs": [
    {
     "name": "stdout",
     "output_type": "stream",
     "text": [
      "Enter a number: 153\n",
      "\n",
      "Armstrong number of order 3!!!\n"
     ]
    }
   ],
   "source": [
    "number = int(input('Enter a number: '))\n",
    "\n",
    "power = len(str(number))\n",
    "num = number\n",
    "total = 0\n",
    "\n",
    "while num > 0:\n",
    "    \n",
    "    dig = num%10\n",
    "    total = total + dig**power\n",
    "    num = num//10\n",
    "    \n",
    "if total == number:\n",
    "    print(f'\\nArmstrong number of order {power}!!!')\n",
    "else:\n",
    "    print('\\nNot an Armstrong number.')"
   ]
  },
  {
   "cell_type": "markdown",
   "id": "eec5fe9b",
   "metadata": {},
   "source": [
    "# Factorial\n"
   ]
  },
  {
   "cell_type": "code",
   "execution_count": 57,
   "id": "1a85c00e",
   "metadata": {},
   "outputs": [
    {
     "name": "stdout",
     "output_type": "stream",
     "text": [
      "Enter a number: 3\n",
      "6\n"
     ]
    }
   ],
   "source": [
    "number = int(input('Enter a number: '))\n",
    "\n",
    "\n",
    "factorial = 1\n",
    "\n",
    "if number<0:\n",
    "    print('Not Defined.')\n",
    "elif number == 0 :\n",
    "    factorial = 1\n",
    "    print(factorial)\n",
    "    \n",
    "else:\n",
    "    for i in range(1,number+1):\n",
    "        factorial = factorial*i\n",
    "    print(factorial)\n"
   ]
  },
  {
   "cell_type": "markdown",
   "id": "7d2552b5",
   "metadata": {},
   "source": [
    "# Fibonacci "
   ]
  },
  {
   "cell_type": "code",
   "execution_count": 63,
   "id": "96816f6c",
   "metadata": {},
   "outputs": [
    {
     "name": "stdout",
     "output_type": "stream",
     "text": [
      "0 1 1 2 3 5 8 13 21 34 55 89 144 233 377 610 987 "
     ]
    }
   ],
   "source": [
    "number = int(input('Enter a number: '))\n",
    "\n",
    "a = 0\n",
    "b = 1\n",
    "\n",
    "num = 0\n",
    "\n",
    "while num <= number:\n",
    "    print(num,end=' ')\n",
    "    \n",
    "    a = b\n",
    "    b = num\n",
    "    num = a+b\n",
    "    "
   ]
  },
  {
   "cell_type": "markdown",
   "id": "e4074ab3",
   "metadata": {},
   "source": []
  },
  {
   "cell_type": "code",
   "execution_count": null,
   "id": "af8c89eb",
   "metadata": {},
   "outputs": [],
   "source": []
  }
 ],
 "metadata": {
  "kernelspec": {
   "display_name": "Python 3 (ipykernel)",
   "language": "python",
   "name": "python3"
  },
  "language_info": {
   "codemirror_mode": {
    "name": "ipython",
    "version": 3
   },
   "file_extension": ".py",
   "mimetype": "text/x-python",
   "name": "python",
   "nbconvert_exporter": "python",
   "pygments_lexer": "ipython3",
   "version": "3.11.3"
  }
 },
 "nbformat": 4,
 "nbformat_minor": 5
}
