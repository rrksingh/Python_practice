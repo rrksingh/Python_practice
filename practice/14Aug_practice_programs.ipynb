{
 "cells": [
  {
   "cell_type": "markdown",
   "id": "0e54eec9",
   "metadata": {},
   "source": [
    "# Number Palindrome"
   ]
  },
  {
   "cell_type": "code",
   "execution_count": 12,
   "id": "1d848da9",
   "metadata": {},
   "outputs": [
    {
     "name": "stdout",
     "output_type": "stream",
     "text": [
      "Enter a number: 14541\n",
      "Number is palindrome\n"
     ]
    }
   ],
   "source": [
    "number = int(input('Enter a number: '))\n",
    "orignal_num = number\n",
    "reverse = 0\n",
    "\n",
    "while number > 0:\n",
    "    dig = number%10\n",
    "    reverse = reverse*10 + dig\n",
    "    number = number//10\n",
    "    \n",
    "if reverse == orignal_num:\n",
    "    print('Number is palindrome')\n",
    "else:\n",
    "    print('Not a palindrome.')"
   ]
  },
  {
   "cell_type": "code",
   "execution_count": 7,
   "id": "12cf1615",
   "metadata": {},
   "outputs": [
    {
     "data": {
      "text/plain": [
       "123"
      ]
     },
     "execution_count": 7,
     "metadata": {},
     "output_type": "execute_result"
    }
   ],
   "source": [
    "reverse"
   ]
  },
  {
   "cell_type": "code",
   "execution_count": 8,
   "id": "70c4aeed",
   "metadata": {},
   "outputs": [
    {
     "data": {
      "text/plain": [
       "0"
      ]
     },
     "execution_count": 8,
     "metadata": {},
     "output_type": "execute_result"
    }
   ],
   "source": [
    "number"
   ]
  },
  {
   "cell_type": "code",
   "execution_count": 9,
   "id": "12c5861f",
   "metadata": {},
   "outputs": [
    {
     "data": {
      "text/plain": [
       "321"
      ]
     },
     "execution_count": 9,
     "metadata": {},
     "output_type": "execute_result"
    }
   ],
   "source": [
    "orignal_num"
   ]
  },
  {
   "cell_type": "markdown",
   "id": "6eb64e8e",
   "metadata": {},
   "source": [
    "# Armstrong Number:"
   ]
  },
  {
   "cell_type": "code",
   "execution_count": 16,
   "id": "f8b11c9d",
   "metadata": {},
   "outputs": [
    {
     "name": "stdout",
     "output_type": "stream",
     "text": [
      "Enter a number: 154\n",
      "\n",
      "Not an Armstrong number.\n"
     ]
    }
   ],
   "source": [
    "number = int(input('Enter a number: '))\n",
    "\n",
    "power = len(str(number))\n",
    "num = number\n",
    "total = 0\n",
    "\n",
    "while num > 0:\n",
    "    \n",
    "    dig = num%10\n",
    "    total = total + dig**power\n",
    "    num = num//10\n",
    "    \n",
    "if total == number:\n",
    "    print(f'\\nArmstrong number of order {power}.')\n",
    "else:\n",
    "    print('\\nNot an Armstrong number.')"
   ]
  },
  {
   "cell_type": "code",
   "execution_count": 14,
   "id": "2f03bb51",
   "metadata": {},
   "outputs": [
    {
     "data": {
      "text/plain": [
       "3"
      ]
     },
     "execution_count": 14,
     "metadata": {},
     "output_type": "execute_result"
    }
   ],
   "source": [
    "len(str(123))"
   ]
  },
  {
   "cell_type": "code",
   "execution_count": null,
   "id": "be375a09",
   "metadata": {},
   "outputs": [],
   "source": []
  },
  {
   "cell_type": "markdown",
   "id": "f80794ca",
   "metadata": {},
   "source": [
    "# Fibonacci Series\n"
   ]
  },
  {
   "cell_type": "code",
   "execution_count": 20,
   "id": "bfe2fc9f",
   "metadata": {},
   "outputs": [
    {
     "name": "stdout",
     "output_type": "stream",
     "text": [
      "Enter a number: 20\n",
      "0 1 1 2 3 5 8 13 "
     ]
    }
   ],
   "source": [
    "number = int(input('Enter a number: '))\n",
    "\n",
    "a = 0\n",
    "b = 1\n",
    "\n",
    "num = 0\n",
    "\n",
    "while num <= number:\n",
    "    print(num,end=' ')\n",
    "    \n",
    "    a = b\n",
    "    b = num\n",
    "    num = a+b\n",
    "    "
   ]
  },
  {
   "cell_type": "code",
   "execution_count": null,
   "id": "e65cf0d5",
   "metadata": {},
   "outputs": [],
   "source": []
  },
  {
   "cell_type": "code",
   "execution_count": 21,
   "id": "f6dcc768",
   "metadata": {},
   "outputs": [
    {
     "name": "stdout",
     "output_type": "stream",
     "text": [
      "Enter a number: 5\n",
      "120\n"
     ]
    }
   ],
   "source": [
    "number = int(input('Enter a number: '))\n",
    "\n",
    "\n",
    "factorial = 1\n",
    "\n",
    "if number<0:\n",
    "    print('Not Defined.')\n",
    "elif number == 0 :\n",
    "    factorial = 1\n",
    "    print(factorial)\n",
    "    \n",
    "else:\n",
    "    for i in range(1,number+1):\n",
    "        factorial = factorial*i\n",
    "    print(factorial)\n"
   ]
  },
  {
   "cell_type": "markdown",
   "id": "865efdac",
   "metadata": {},
   "source": [
    "# String Palindrome "
   ]
  },
  {
   "cell_type": "code",
   "execution_count": 25,
   "id": "f0f61315",
   "metadata": {},
   "outputs": [
    {
     "name": "stdout",
     "output_type": "stream",
     "text": [
      "Enter a string: Malayalam\n",
      "Palindrome found!!\n"
     ]
    }
   ],
   "source": [
    "string = input('Enter a string: ').lower()\n",
    "length = len(string)\n",
    "is_palindrome = True\n",
    "\n",
    "for i in range(0, length // 2):\n",
    "    if string[i] != string[length - i - 1]:\n",
    "        is_palindrome = False\n",
    "        break  # No need to continue checking once a mismatch is found\n",
    "\n",
    "if is_palindrome:\n",
    "    print('Palindrome found!!')\n",
    "else:\n",
    "    print('Not a Palindrome')\n"
   ]
  },
  {
   "cell_type": "code",
   "execution_count": null,
   "id": "a0f6e088",
   "metadata": {},
   "outputs": [],
   "source": []
  },
  {
   "cell_type": "code",
   "execution_count": null,
   "id": "ded5a1f7",
   "metadata": {},
   "outputs": [],
   "source": []
  },
  {
   "cell_type": "code",
   "execution_count": null,
   "id": "be55f736",
   "metadata": {},
   "outputs": [],
   "source": []
  },
  {
   "cell_type": "code",
   "execution_count": null,
   "id": "09b567bf",
   "metadata": {},
   "outputs": [],
   "source": []
  },
  {
   "cell_type": "code",
   "execution_count": null,
   "id": "2759a935",
   "metadata": {},
   "outputs": [],
   "source": []
  },
  {
   "cell_type": "code",
   "execution_count": null,
   "id": "ad5fddcc",
   "metadata": {},
   "outputs": [],
   "source": []
  },
  {
   "cell_type": "code",
   "execution_count": null,
   "id": "cb8e124b",
   "metadata": {},
   "outputs": [],
   "source": []
  },
  {
   "cell_type": "code",
   "execution_count": null,
   "id": "f3ca0254",
   "metadata": {},
   "outputs": [],
   "source": []
  },
  {
   "cell_type": "code",
   "execution_count": null,
   "id": "085ed3d9",
   "metadata": {},
   "outputs": [],
   "source": []
  },
  {
   "cell_type": "code",
   "execution_count": null,
   "id": "c2fe42a3",
   "metadata": {},
   "outputs": [],
   "source": []
  }
 ],
 "metadata": {
  "kernelspec": {
   "display_name": "Python 3 (ipykernel)",
   "language": "python",
   "name": "python3"
  },
  "language_info": {
   "codemirror_mode": {
    "name": "ipython",
    "version": 3
   },
   "file_extension": ".py",
   "mimetype": "text/x-python",
   "name": "python",
   "nbconvert_exporter": "python",
   "pygments_lexer": "ipython3",
   "version": "3.11.3"
  }
 },
 "nbformat": 4,
 "nbformat_minor": 5
}
