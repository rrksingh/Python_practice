{
 "cells": [
  {
   "cell_type": "raw",
   "id": "2e22b482",
   "metadata": {},
   "source": [
    "question 1: "
   ]
  },
  {
   "cell_type": "code",
   "execution_count": 4,
   "id": "7ae8f04c",
   "metadata": {},
   "outputs": [],
   "source": [
    "def factorial(n):\n",
    "    \n",
    "    fact = 1\n",
    " \n",
    "    for i in range(1, n+1):\n",
    "        fact = fact * i\n",
    "        \n",
    "    return fact"
   ]
  },
  {
   "cell_type": "code",
   "execution_count": 6,
   "id": "e8411628",
   "metadata": {},
   "outputs": [
    {
     "data": {
      "text/plain": [
       "120"
      ]
     },
     "execution_count": 6,
     "metadata": {},
     "output_type": "execute_result"
    }
   ],
   "source": [
    "factorial(5)"
   ]
  },
  {
   "cell_type": "raw",
   "id": "a67329d6",
   "metadata": {},
   "source": [
    "question 2:"
   ]
  },
  {
   "cell_type": "code",
   "execution_count": 51,
   "id": "a76f5b40",
   "metadata": {},
   "outputs": [
    {
     "name": "stdout",
     "output_type": "stream",
     "text": [
      "* \n",
      "* * \n",
      "* * * \n",
      "* * * * \n",
      "* * * * * \n",
      "* * * * \n",
      "* * * \n",
      "* * \n",
      "* \n"
     ]
    }
   ],
   "source": [
    "rows = 5\n",
    "\n",
    "for i in range(1,rows + 1):\n",
    "    for j in range(i):\n",
    "        print(\"*\", end=\" \")\n",
    "    print()\n",
    "\n",
    "for i in range(rows - 1, 0, -1):\n",
    "    for j in range(i):\n",
    "        print(\"*\", end=\" \")\n",
    "    print()\n"
   ]
  },
  {
   "cell_type": "raw",
   "id": "3775953b",
   "metadata": {},
   "source": [
    "question 3:"
   ]
  },
  {
   "cell_type": "code",
   "execution_count": 25,
   "id": "6bdcafd8",
   "metadata": {},
   "outputs": [
    {
     "name": "stdout",
     "output_type": "stream",
     "text": [
      "Enter the number:25\n",
      "2\n",
      "3\n",
      "5\n",
      "7\n",
      "11\n",
      "13\n",
      "17\n",
      "19\n",
      "23\n"
     ]
    }
   ],
   "source": [
    "i = 1\n",
    "x = int(input(\"Enter the number:\"))\n",
    "for k in range(1, x+1):\n",
    "    c = 0\n",
    "    for j in range(1, i+1):\n",
    "        a = i % j\n",
    "        if a == 0:\n",
    "            c = c + 1\n",
    "\n",
    "    if c == 2:\n",
    "        print(i)\n",
    "    else:\n",
    "        k = k - 1\n",
    "\n",
    "    i = i + 1"
   ]
  },
  {
   "cell_type": "raw",
   "id": "0757162e",
   "metadata": {},
   "source": [
    "question 5:\n"
   ]
  },
  {
   "cell_type": "code",
   "execution_count": 63,
   "id": "b86ce20b",
   "metadata": {},
   "outputs": [
    {
     "name": "stdout",
     "output_type": "stream",
     "text": [
      "Enter a string: rohit raj\n",
      "The number of times two vowels and two consonants occur together is: 10\n"
     ]
    }
   ],
   "source": [
    "import re\n",
    "\n",
    "def count_occur(string):\n",
    "    pattern = r'(?=([aeiouAEIOU]{2}[^aeiouAEIOU]{2}))*'\n",
    "    occur = re.findall(pattern, string)\n",
    "    return len(occur)\n",
    "\n",
    "give_string= input(\"Enter a string: \")\n",
    "result = count_occur(give_string)\n",
    "\n",
    "print(\"The number of times two vowels and two consonants occur together is:\", result)\n"
   ]
  },
  {
   "cell_type": "raw",
   "id": "b6cac663",
   "metadata": {},
   "source": [
    "question 4:\n"
   ]
  },
  {
   "cell_type": "code",
   "execution_count": 62,
   "id": "c57b239b",
   "metadata": {},
   "outputs": [
    {
     "ename": "TypeError",
     "evalue": "'builtin_function_or_method' object is not subscriptable",
     "output_type": "error",
     "traceback": [
      "\u001b[1;31m---------------------------------------------------------------------------\u001b[0m",
      "\u001b[1;31mTypeError\u001b[0m                                 Traceback (most recent call last)",
      "Cell \u001b[1;32mIn[62], line 5\u001b[0m\n\u001b[0;32m      3\u001b[0m     \u001b[38;5;28mprint\u001b[39m[\u001b[38;5;28mlist\u001b[39m[i]]\n\u001b[0;32m      4\u001b[0m \u001b[38;5;28;01melse\u001b[39;00m :\n\u001b[1;32m----> 5\u001b[0m     \u001b[38;5;28mprint\u001b[39m[\u001b[38;5;28mlist\u001b[39m[i\u001b[38;5;241m+\u001b[39m\u001b[38;5;241m1\u001b[39m]]\n",
      "\u001b[1;31mTypeError\u001b[0m: 'builtin_function_or_method' object is not subscriptable"
     ]
    }
   ],
   "source": [
    "list=[1,8,9,25,45,78]\n",
    "if list[i]>list[i+1]:\n",
    "    print[list[i]]\n",
    "else :\n",
    "    print[list[i+1]]"
   ]
  },
  {
   "cell_type": "code",
   "execution_count": null,
   "id": "94da61b5",
   "metadata": {},
   "outputs": [],
   "source": []
  }
 ],
 "metadata": {
  "kernelspec": {
   "display_name": "Python 3 (ipykernel)",
   "language": "python",
   "name": "python3"
  },
  "language_info": {
   "codemirror_mode": {
    "name": "ipython",
    "version": 3
   },
   "file_extension": ".py",
   "mimetype": "text/x-python",
   "name": "python",
   "nbconvert_exporter": "python",
   "pygments_lexer": "ipython3",
   "version": "3.11.3"
  }
 },
 "nbformat": 4,
 "nbformat_minor": 5
}
